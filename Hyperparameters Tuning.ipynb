{
 "cells": [
  {
   "cell_type": "code",
   "execution_count": null,
   "metadata": {},
   "outputs": [],
   "source": [
    "# Natural Language Processing\n",
    "\n",
    "# Importing the libraries\n",
    "import numpy as np\n",
    "import matplotlib.pyplot as plt\n",
    "import pandas as pd\n",
    "\n",
    "# Importing the train dataset\n",
    "column_names = ['text','target']\n",
    "dataTrain = pd.read_csv('train.csv', delimiter = ',', names = column_names)\n",
    "dataTest = pd.read_csv('test.csv', delimiter = ',', names = column_names)\n",
    "    "
   ]
  },
  {
   "cell_type": "code",
   "execution_count": null,
   "metadata": {},
   "outputs": [],
   "source": [
    "print(dataTrain)\n",
    "print(dataTest)\n",
    "\n",
    "dataTrain['target'].value_counts()"
   ]
  },
  {
   "cell_type": "code",
   "execution_count": null,
   "metadata": {},
   "outputs": [],
   "source": [
    "# Cleaning the texts\n",
    "import re\n",
    "import nltk\n",
    "#nltk.download('stopwords')\n",
    "from nltk.corpus import stopwords\n",
    "from nltk.stem.porter import PorterStemmer\n",
    "corpus = []\n",
    "for i in range(0, len(dataTrain.text)):\n",
    "    review = re.sub('https?://\\S+|www\\.\\S+', ' ', dataTrain.text[i])\n",
    "    review = re.sub('[^a-zA-Z]', ' ', review)\n",
    "    review = review.lower()\n",
    "    review = review.split()\n",
    "    ps = PorterStemmer()\n",
    "    review = [ps.stem(word) for word in review if not word in set(stopwords.words('english'))]\n",
    "    review = ' '.join(review)\n",
    "    corpus.append(review)"
   ]
  },
  {
   "cell_type": "code",
   "execution_count": null,
   "metadata": {},
   "outputs": [],
   "source": [
    "print(corpus)"
   ]
  },
  {
   "cell_type": "code",
   "execution_count": null,
   "metadata": {},
   "outputs": [],
   "source": [
    "# Creating the Bag of Words model\n",
    "from sklearn.feature_extraction.text import CountVectorizer\n",
    "cv = CountVectorizer(max_features = 10000 )\n",
    "x = cv.fit_transform(corpus).toarray()\n",
    "y = dataTrain.iloc[:, 1].values"
   ]
  },
  {
   "cell_type": "code",
   "execution_count": null,
   "metadata": {},
   "outputs": [],
   "source": [
    "print(x.shape)\n",
    "print(y.shape)"
   ]
  },
  {
   "cell_type": "code",
   "execution_count": null,
   "metadata": {},
   "outputs": [],
   "source": [
    "# Splitting the dataset into the Training set and Test set\n",
    "from sklearn.model_selection import train_test_split\n",
    "x_train, x_test, y_train, y_test = train_test_split(x, y, test_size = 0.3, random_state = 42)"
   ]
  },
  {
   "cell_type": "code",
   "execution_count": null,
   "metadata": {},
   "outputs": [],
   "source": [
    "# Hyperparameters \n",
    "hyperparams = {\n",
    "    \n",
    "}"
   ]
  },
  {
   "cell_type": "code",
   "execution_count": 4,
   "metadata": {},
   "outputs": [
    {
     "name": "stdout",
     "output_type": "stream",
     "text": [
      "Pake 10000 Fitur\n",
      "Akurasi naive bayes multinomial :  0.7964543663821405\n"
     ]
    }
   ],
   "source": [
    "\"\"\"\n",
    "Multinomial Final\n",
    "\"\"\"\n",
    "import numpy as np\n",
    "import matplotlib.pyplot as plt\n",
    "import pandas as pd\n",
    "\n",
    "# Importing the train dataset\n",
    "column_names = ['text','target']\n",
    "dataset = pd.read_csv('train.csv', delimiter = ',')\n",
    "dataset2 = dataset[['text']]\n",
    "\n",
    "\n",
    "# Cleaning the texts\n",
    "import re\n",
    "import nltk\n",
    "#nltk.download('stopwords')\n",
    "from nltk.corpus import stopwords\n",
    "from nltk.stem.porter import PorterStemmer\n",
    "corpus = []\n",
    "for i in range(0, len(dataset2.text)):\n",
    "    review = re.sub('[^a-zA-Z]', ' ', dataset2.text[i])\n",
    "    review = review.lower()\n",
    "    review = review.split()\n",
    "    ps = PorterStemmer()\n",
    "    review = [ps.stem(word) for word in review if not word in set(stopwords.words('english'))]\n",
    "    review = ' '.join(review)\n",
    "    corpus.append(review)\n",
    "\n",
    "\n",
    "# Creating the Bag of Words model\n",
    "from sklearn.feature_extraction.text import CountVectorizer\n",
    "cv = CountVectorizer(max_features = 10000 )\n",
    "X = cv.fit_transform(corpus).toarray()\n",
    "y = dataset['target']\n",
    "\n",
    "# Splitting the dataset into the Training set and Test set\n",
    "from sklearn.model_selection import train_test_split\n",
    "X_train, X_test, y_train, y_test = train_test_split(X, y, test_size = 0.20, random_state = 0)\n",
    "\n",
    "# Fitting Naive Bayes to the Training set\n",
    "from sklearn.naive_bayes import MultinomialNB\n",
    "classifier_Multinomial = MultinomialNB()\n",
    "\n",
    "classifier_Multinomial.fit(X_train, y_train)\n",
    "\n",
    "\n",
    "# Predicting the Test set results\n",
    "y_pred_multinomial = classifier_Multinomial.predict(X_test)\n",
    "\n",
    "# Making the Confusion Matrix\n",
    "from sklearn.metrics import confusion_matrix\n",
    "cm_multinomial = confusion_matrix(y_test, y_pred_multinomial)\n",
    "\n",
    "print(\"Pake 10000 Fitur\")\n",
    "print(\"Akurasi naive bayes multinomial : \", float((cm_multinomial[0][0]+cm_multinomial[1][1]) / len(y_pred_multinomial)))\n"
   ]
  },
  {
   "cell_type": "code",
   "execution_count": 5,
   "metadata": {},
   "outputs": [],
   "source": [
    "\"\"\"\n",
    "Predicting \n",
    "\"\"\"\n",
    "\n",
    "data = pd.read_csv('test.csv', delimiter = ',')\n",
    "dataTest = data[['keyword','location','text']]\n",
    "dataTestid = data['id']\n",
    "# print(dataTest)\n",
    "\n",
    "corpusTest = []\n",
    "for i in range(0, len(dataTest.text)):\n",
    "    review = re.sub('[^a-zA-Z]', ' ', dataTest.text[i])\n",
    "    review = review.lower()\n",
    "    review = review.split()\n",
    "    ps = PorterStemmer()\n",
    "    review = [ps.stem(word) for word in review if not word in set(stopwords.words('english'))]\n",
    "    review = ' '.join(review)\n",
    "    corpusTest.append(review)\n",
    "    \n",
    "xTest = cv.fit_transform(corpusTest).toarray()\n",
    "prediction = classifier_Multinomial.predict(xTest)\n"
   ]
  },
  {
   "cell_type": "code",
   "execution_count": 6,
   "metadata": {
    "scrolled": true
   },
   "outputs": [
    {
     "name": "stdout",
     "output_type": "stream",
     "text": [
      "0           0\n",
      "1           2\n",
      "2           3\n",
      "3           9\n",
      "4          11\n",
      "        ...  \n",
      "3258    10861\n",
      "3259    10865\n",
      "3260    10868\n",
      "3261    10874\n",
      "3262    10875\n",
      "Name: id, Length: 3263, dtype: int64\n",
      "      0\n",
      "0     1\n",
      "1     1\n",
      "2     1\n",
      "3     1\n",
      "4     0\n",
      "...  ..\n",
      "3258  1\n",
      "3259  0\n",
      "3260  0\n",
      "3261  0\n",
      "3262  0\n",
      "\n",
      "[3263 rows x 1 columns]\n"
     ]
    }
   ],
   "source": [
    "print(dataTestid)\n",
    "df_predict = pd.DataFrame(prediction)\n",
    "print(df_predict)\n",
    "\n",
    "# df_predict = dataTestid.assign(target = predictions)\n",
    "# # df_predict = pd.concat([idTest, df_predict])\n",
    "# dataTestid.head()"
   ]
  },
  {
   "cell_type": "code",
   "execution_count": 7,
   "metadata": {},
   "outputs": [
    {
     "data": {
      "text/plain": [
       "0    2559\n",
       "1     704\n",
       "Name: target, dtype: int64"
      ]
     },
     "execution_count": 7,
     "metadata": {},
     "output_type": "execute_result"
    }
   ],
   "source": [
    "df_predict.to_numpy()\n",
    "dataTestid = pd.DataFrame(dataTestid)\n",
    "df_predict = dataTestid.assign(target =df_predict)\n",
    "df_predict.head()\n",
    "df_predict['target'].value_counts()"
   ]
  },
  {
   "cell_type": "code",
   "execution_count": 10,
   "metadata": {},
   "outputs": [],
   "source": [
    "df_predict.to_csv('submission.csv', sep=',',index=False)"
   ]
  },
  {
   "cell_type": "code",
   "execution_count": null,
   "metadata": {},
   "outputs": [],
   "source": []
  }
 ],
 "metadata": {
  "kernelspec": {
   "display_name": "Python 3",
   "language": "python",
   "name": "python3"
  },
  "language_info": {
   "codemirror_mode": {
    "name": "ipython",
    "version": 3
   },
   "file_extension": ".py",
   "mimetype": "text/x-python",
   "name": "python",
   "nbconvert_exporter": "python",
   "pygments_lexer": "ipython3",
   "version": "3.7.4"
  }
 },
 "nbformat": 4,
 "nbformat_minor": 2
}
